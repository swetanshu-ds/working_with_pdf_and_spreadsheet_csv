{
 "cells": [
  {
   "cell_type": "code",
   "execution_count": 1,
   "id": "ccb460dc",
   "metadata": {},
   "outputs": [
    {
     "name": "stdout",
     "output_type": "stream",
     "text": [
      "Collecting PyPDF2\n",
      "  Downloading PyPDF2-1.26.0.tar.gz (77 kB)\n",
      "Building wheels for collected packages: PyPDF2\n",
      "  Building wheel for PyPDF2 (setup.py): started\n",
      "  Building wheel for PyPDF2 (setup.py): finished with status 'done'\n",
      "  Created wheel for PyPDF2: filename=PyPDF2-1.26.0-py3-none-any.whl size=61085 sha256=fb4dd3dd655972fc0751965daa15aba10c67f8c83531d8822fe63d0aa0ccdcb9\n",
      "  Stored in directory: c:\\users\\swetanshu\\appdata\\local\\pip\\cache\\wheels\\b1\\1a\\8f\\a4c34be976825a2f7948d0fa40907598d69834f8ab5889de11\n",
      "Successfully built PyPDF2\n",
      "Installing collected packages: PyPDF2\n",
      "Successfully installed PyPDF2-1.26.0\n",
      "Note: you may need to restart the kernel to use updated packages.\n"
     ]
    }
   ],
   "source": [
    "pip install PyPDF2"
   ]
  },
  {
   "cell_type": "code",
   "execution_count": 1,
   "id": "50326a62",
   "metadata": {},
   "outputs": [],
   "source": [
    "### Welcome back Agent. Often you will have to deal with PDF files. There are many libraries in Python for working with PDFs, \n",
    "### each with their pros and cons, the most common one being PyPDF2. You can install it with (note the case-sensitivity, \n",
    "###  you need to make sure your capitilization matches):\n",
    "## pip install PyPDF2\n",
    "## Keep in mind that not every PDF file can be read with this library. PDFs that are too blurry, \n",
    "### have a special encoding, encrypted, or maybe just created with a particular program that\n",
    "##  doesn't work well with PyPDF2 won't be able to be read. If you find yourself in this situation, \n",
    "###  try using the libraries linked above, but keep in mind, these may also not work. \n",
    "###  The reason for this is because of the many different parameters for a PDF and how non-standard the settings can be, \n",
    "###  text could be shown as an image instead of a utf-8 encoding. There are many parameters to consider in this aspect.\n",
    "\n",
    "### As far as PyPDF2 is concerned, it can only read the text from a PDF document, \n",
    "###  it won't be able to grab images or other media files from a PDF.\n",
    "\n"
   ]
  },
  {
   "cell_type": "code",
   "execution_count": 2,
   "id": "62b780af",
   "metadata": {},
   "outputs": [],
   "source": [
    "import PyPDF2"
   ]
  },
  {
   "cell_type": "code",
   "execution_count": 4,
   "id": "7f6bdaf9",
   "metadata": {},
   "outputs": [],
   "source": [
    "f=open('Working_Business_Proposal.pdf','rb')"
   ]
  },
  {
   "cell_type": "code",
   "execution_count": 5,
   "id": "93b76bed",
   "metadata": {},
   "outputs": [],
   "source": [
    "pdf_reader=PyPDF2.PdfFileReader(f)"
   ]
  },
  {
   "cell_type": "code",
   "execution_count": 10,
   "id": "49986867",
   "metadata": {},
   "outputs": [
    {
     "data": {
      "text/plain": [
       "5"
      ]
     },
     "execution_count": 10,
     "metadata": {},
     "output_type": "execute_result"
    }
   ],
   "source": [
    "pdf_reader.numPages"
   ]
  },
  {
   "cell_type": "code",
   "execution_count": 11,
   "id": "ec62fcf5",
   "metadata": {},
   "outputs": [],
   "source": [
    "page_one=pdf_reader.getPage(0)"
   ]
  },
  {
   "cell_type": "code",
   "execution_count": 12,
   "id": "7a4a708b",
   "metadata": {},
   "outputs": [],
   "source": [
    "page_one_text=page_one.extractText()"
   ]
  },
  {
   "cell_type": "code",
   "execution_count": 13,
   "id": "9f22ad79",
   "metadata": {},
   "outputs": [
    {
     "data": {
      "text/plain": [
       "'Business Proposal\\n The Revolution is Coming\\n Leverage agile frameworks to provide a robust synopsis for high level \\noverviews. Iterative approaches to corporate strategy foster collaborative \\nthinking to further the overall value proposition. Organically grow the \\nholistic world view of disruptive innovation via workplace diversity and \\nempowerment. \\nBring to the table win-win survival strategies to ensure proactive \\ndomination. At the end of the day, going forward, a new normal that has \\nevolved from generation X is on the runway heading towards a streamlined \\ncloud solution. User generated content in real-time will have multiple \\ntouchpoints for offshoring. \\nCapitalize on low hanging fruit to identify a ballpark value added activity to \\nbeta test. Override the digital divide with additional clickthroughs from \\nDevOps. Nanotechnology immersion along the information highway will \\nclose the loop on focusing solely on the bottom line. Podcasting operational change management inside of workßows to \\nestablish a framework. Taking seamless key performance indicators ofßine \\nto maximise the long tail. Keeping your eye on the ball while performing a \\ndeep dive on the start-up mentality to derive convergence on cross-\\nplatform integration. \\nCollaboratively administrate empowered markets via plug-and-play \\nnetworks. Dynamically procrastinate B2C users after installed base \\nbeneÞts. Dramatically visualize customer directed convergence without \\nrevolutionary ROI. \\nEfÞciently unleash cross-media information without cross-media value. \\nQuickly maximize timely deliverables for real-time schemas. Dramatically \\nmaintain clicks-and-mortar solutions without functional solutions. \\nBUSINESS PROPOSAL\\n!1'"
      ]
     },
     "execution_count": 13,
     "metadata": {},
     "output_type": "execute_result"
    }
   ],
   "source": [
    "page_one_text"
   ]
  },
  {
   "cell_type": "code",
   "execution_count": 14,
   "id": "6b6e65f0",
   "metadata": {},
   "outputs": [],
   "source": [
    "f.close()"
   ]
  },
  {
   "cell_type": "code",
   "execution_count": 15,
   "id": "8fe0acb9",
   "metadata": {},
   "outputs": [],
   "source": [
    "f=open('Jan 13, Doc 2.pdf','rb')"
   ]
  },
  {
   "cell_type": "code",
   "execution_count": 16,
   "id": "bf85ae65",
   "metadata": {},
   "outputs": [],
   "source": [
    "pdf_reader1=PyPDF2.PdfFileReader(f)"
   ]
  },
  {
   "cell_type": "code",
   "execution_count": 17,
   "id": "1f4234e3",
   "metadata": {},
   "outputs": [
    {
     "data": {
      "text/plain": [
       "12"
      ]
     },
     "execution_count": 17,
     "metadata": {},
     "output_type": "execute_result"
    }
   ],
   "source": [
    "pdf_reader1.numPages"
   ]
  },
  {
   "cell_type": "code",
   "execution_count": 21,
   "id": "88bfb5ec",
   "metadata": {},
   "outputs": [],
   "source": [
    "page_1=pdf_reader1.getPage(0)"
   ]
  },
  {
   "cell_type": "code",
   "execution_count": 22,
   "id": "09d7d703",
   "metadata": {},
   "outputs": [],
   "source": [
    "page_1_text=page_1.extractText()"
   ]
  },
  {
   "cell_type": "code",
   "execution_count": 23,
   "id": "4679f651",
   "metadata": {},
   "outputs": [
    {
     "data": {
      "text/plain": [
       "''"
      ]
     },
     "execution_count": 23,
     "metadata": {},
     "output_type": "execute_result"
    }
   ],
   "source": [
    "page_1_text  "
   ]
  },
  {
   "cell_type": "code",
   "execution_count": 24,
   "id": "69bdbf5a",
   "metadata": {},
   "outputs": [],
   "source": [
    "f.close()"
   ]
  },
  {
   "cell_type": "code",
   "execution_count": 25,
   "id": "efbc6366",
   "metadata": {},
   "outputs": [],
   "source": [
    "f=open('Unit 1  AI.pdf','rb')"
   ]
  },
  {
   "cell_type": "code",
   "execution_count": 27,
   "id": "8622833d",
   "metadata": {},
   "outputs": [],
   "source": [
    "pdf_reader2=PyPDF2.PdfFileReader(f)"
   ]
  },
  {
   "cell_type": "code",
   "execution_count": 28,
   "id": "1c1fb579",
   "metadata": {},
   "outputs": [
    {
     "data": {
      "text/plain": [
       "12"
      ]
     },
     "execution_count": 28,
     "metadata": {},
     "output_type": "execute_result"
    }
   ],
   "source": [
    "pdf_reader2.numPages"
   ]
  },
  {
   "cell_type": "code",
   "execution_count": 29,
   "id": "15e8413c",
   "metadata": {},
   "outputs": [],
   "source": [
    "page_2=pdf_reader2.getPage(2)"
   ]
  },
  {
   "cell_type": "code",
   "execution_count": 30,
   "id": "1ab496af",
   "metadata": {},
   "outputs": [],
   "source": [
    "page_2_ex=page_2.extractText()"
   ]
  },
  {
   "cell_type": "code",
   "execution_count": 31,
   "id": "1b2d4ad6",
   "metadata": {},
   "outputs": [
    {
     "data": {
      "text/plain": [
       "'o\\n \\nYear 1980:\\n \\nAfter AI winter durati\\non, AI came back with \"Expert System\". Expert systems \\nwere programmed that emulate the decision\\n-\\nmaking ability of a human expert.\\n \\no\\n \\nIn the Year 1980, the first national conference of the American Association of Artificial \\nIntelligence\\n \\nwas held at Stanford Un\\niversity\\n.\\n \\nThe second AI winter (1987\\n-\\n1993)\\n \\no\\n \\nThe duration between the years 1987 to 1993 was the second AI Winter duration.\\n \\no\\n \\nAgain,\\n \\nInvestors and government stopped in funding for AI research as due to high cost \\nbut not efficient result. The expert system such\\n \\nas XCON was very cost effective.\\n \\nThe emergence of intelligent agents (1993\\n-\\n2011)\\n \\no\\n \\nYear 1997:\\n \\nIn the year 1997, IBM Deep Blue beats world chess champion, Gary Kasparov, \\nand became the first computer to beat a world chess champion.\\n \\no\\n \\nYear 2002:\\n \\nfor the first time, AI entered the home in the form of Roomba, a vacuum \\ncleaner.\\n \\no\\n \\nYear 2006:\\n \\nAI came in the B\\nusiness world till the year 2006. Companies like Facebook, \\nTwitter, and Netflix also started using AI.\\n \\nDeep learning, big data and artificial general intelligence \\n(2011\\n-\\npresent)\\n \\no\\n \\nYear 2011:\\n \\nIn the year 2011, IBM\\'s Watson won jeopardy, a quiz show, where it \\nhad to \\nsolve the complex questions as well as riddles. Watson had proved that it could understand \\nnatural language and can solve tricky questions quickly.\\n \\no\\n \\nYear 2012:\\n \\nGoogle has launched an Android app feature \"Google now\", which was able \\nto provide informa\\ntion to the user as a prediction.\\n \\no\\n \\nYear 2014:\\n \\nIn the year 2014, Chatbot \"Eugene Goostman\" won a competition in the \\ninfamous \"Turing test.\"\\n \\no\\n \\nYear 2018:\\n \\nThe \"Project Debater\" from IBM debated on complex topics with two master \\ndebaters and also performed extrem\\nely well.\\n \\no\\n \\nGoogle has demonstrated an AI program \"Duplex\" which was a virtual assistant and which \\nhad taken hairdresser appointment on call, and lady on other side didn\\'t notice that she was \\ntalking with the machine.\\n \\n'"
      ]
     },
     "execution_count": 31,
     "metadata": {},
     "output_type": "execute_result"
    }
   ],
   "source": [
    "page_2_ex"
   ]
  },
  {
   "cell_type": "code",
   "execution_count": 32,
   "id": "720ebc4b",
   "metadata": {},
   "outputs": [],
   "source": [
    "f.close()"
   ]
  },
  {
   "cell_type": "code",
   "execution_count": 34,
   "id": "524896f3",
   "metadata": {},
   "outputs": [],
   "source": [
    "f=open('Working_Business_Proposal.pdf','rb')"
   ]
  },
  {
   "cell_type": "code",
   "execution_count": 35,
   "id": "5149c307",
   "metadata": {},
   "outputs": [],
   "source": [
    "pdf_reader=PyPDF2.PdfFileReader(f)"
   ]
  },
  {
   "cell_type": "code",
   "execution_count": 36,
   "id": "f86f2104",
   "metadata": {},
   "outputs": [],
   "source": [
    "first_page=pdf_reader.getPage(0)"
   ]
  },
  {
   "cell_type": "code",
   "execution_count": 38,
   "id": "056eb48e",
   "metadata": {},
   "outputs": [
    {
     "data": {
      "text/plain": [
       "PyPDF2.pdf.PageObject"
      ]
     },
     "execution_count": 38,
     "metadata": {},
     "output_type": "execute_result"
    }
   ],
   "source": [
    "type(first_page)"
   ]
  },
  {
   "cell_type": "code",
   "execution_count": 37,
   "id": "6381c697",
   "metadata": {},
   "outputs": [],
   "source": [
    "pdf_writer=PyPDF2.PdfFileWriter()"
   ]
  },
  {
   "cell_type": "code",
   "execution_count": 39,
   "id": "7a6d3307",
   "metadata": {},
   "outputs": [],
   "source": [
    "pdf_writer.addPage(first_page)"
   ]
  },
  {
   "cell_type": "code",
   "execution_count": 40,
   "id": "36308564",
   "metadata": {},
   "outputs": [],
   "source": [
    "pdf_output=open('Some_BrandNew_Doc.pdf','wb')"
   ]
  },
  {
   "cell_type": "code",
   "execution_count": 41,
   "id": "96e96e02",
   "metadata": {},
   "outputs": [],
   "source": [
    "pdf_writer.write(pdf_output)"
   ]
  },
  {
   "cell_type": "code",
   "execution_count": 42,
   "id": "dec3cc4e",
   "metadata": {},
   "outputs": [],
   "source": [
    "f.close()"
   ]
  },
  {
   "cell_type": "code",
   "execution_count": 43,
   "id": "d10945dc",
   "metadata": {},
   "outputs": [],
   "source": [
    "pdf_output.close()"
   ]
  },
  {
   "cell_type": "code",
   "execution_count": 44,
   "id": "69be869c",
   "metadata": {},
   "outputs": [],
   "source": [
    "f=open('Working_Business_Proposal.pdf','rb')"
   ]
  },
  {
   "cell_type": "code",
   "execution_count": 45,
   "id": "86a4989d",
   "metadata": {},
   "outputs": [],
   "source": [
    "pdf_text=[]"
   ]
  },
  {
   "cell_type": "code",
   "execution_count": 46,
   "id": "0b7d53a0",
   "metadata": {},
   "outputs": [],
   "source": [
    "pdf_reader=PyPDF2.PdfFileReader(f)"
   ]
  },
  {
   "cell_type": "code",
   "execution_count": 47,
   "id": "7769e088",
   "metadata": {},
   "outputs": [],
   "source": [
    "for i in range(pdf_reader.numPages):\n",
    "    page=pdf_reader.getPage(i)\n",
    "    pdf_text.append(page.extractText())"
   ]
  },
  {
   "cell_type": "code",
   "execution_count": 48,
   "id": "c082bec7",
   "metadata": {},
   "outputs": [
    {
     "data": {
      "text/plain": [
       "['Business Proposal\\n The Revolution is Coming\\n Leverage agile frameworks to provide a robust synopsis for high level \\noverviews. Iterative approaches to corporate strategy foster collaborative \\nthinking to further the overall value proposition. Organically grow the \\nholistic world view of disruptive innovation via workplace diversity and \\nempowerment. \\nBring to the table win-win survival strategies to ensure proactive \\ndomination. At the end of the day, going forward, a new normal that has \\nevolved from generation X is on the runway heading towards a streamlined \\ncloud solution. User generated content in real-time will have multiple \\ntouchpoints for offshoring. \\nCapitalize on low hanging fruit to identify a ballpark value added activity to \\nbeta test. Override the digital divide with additional clickthroughs from \\nDevOps. Nanotechnology immersion along the information highway will \\nclose the loop on focusing solely on the bottom line. Podcasting operational change management inside of workßows to \\nestablish a framework. Taking seamless key performance indicators ofßine \\nto maximise the long tail. Keeping your eye on the ball while performing a \\ndeep dive on the start-up mentality to derive convergence on cross-\\nplatform integration. \\nCollaboratively administrate empowered markets via plug-and-play \\nnetworks. Dynamically procrastinate B2C users after installed base \\nbeneÞts. Dramatically visualize customer directed convergence without \\nrevolutionary ROI. \\nEfÞciently unleash cross-media information without cross-media value. \\nQuickly maximize timely deliverables for real-time schemas. Dramatically \\nmaintain clicks-and-mortar solutions without functional solutions. \\nBUSINESS PROPOSAL\\n!1',\n",
       " 'Completely synergize resource taxing relationships via premier niche \\nmarkets. Professionally cultivate one-to-one customer service with robust \\nideas. Dynamically innovate resource-leveling customer service for state of \\nthe art customer service. \\nObjectively innovate empowered manufactured products whereas parallel \\nplatforms. Holisticly predominate extensible testing procedures for reliable \\nsupply chains. Dramatically engage top-line web services vis-a-vis \\ncutting-edge deliverables. Proactively envisioned multimedia based expertise and cross-media \\ngrowth strategies. Seamlessly visualize quality intellectual capital without \\nsuperior collaboration and idea-sharing. Holistically pontiÞcate installed \\nbase portals after maintainable products. \\nPhosßuorescently engage worldwide methodologies with web-enabled \\ntechnology. Interactively coordinate proactive e-commerce via process-\\ncentric \"outside the box\" thinking. Completely pursue scalable customer \\nservice through sustainable potentialities. \\nCollaboratively administrate turnkey channels whereas virtual e-tailers. \\nObjectively seize scalable metrics whereas proactive e-services. \\nSeamlessly empower fully researched growth strategies and interoperable \\ninternal or \"organic\" sources. \\nCredibly innovate granular internal or \"organic\" sources whereas high \\nstandards in web-readiness. Energistically scale future-proof core \\ncompetencies vis-a-vis impactful experiences. Dramatically synthesize \\nintegrated schemas with optimal networks. Interactively procrastinate high-payoff content without backward-\\ncompatible data. Quickly cultivate optimal processes and tactical \\narchitectures. Completely iterate covalent strategic theme areas via \\naccurate e-markets. Globally incubate standards compliant channels before scalable beneÞts. \\nQuickly disseminate superior deliverables whereas web-enabled \\nBUSINESS PROPOSAL\\n!2',\n",
       " 'applications. Quickly drive clicks-and-mortar catalysts for change before \\nvertical architectures. \\nCredibly reintermediate backend ideas for cross-platform models. \\nContinually reintermediate integrated processes through technically sound \\nintellectual capital. Holistically foster superior methodologies without \\nmarket-driven best practices. Distinctively exploit optimal alignments for intuitive bandwidth. Quickly \\ncoordinate e-business applications through revolutionary catalysts for \\nchange. Seamlessly underwhelm optimal testing procedures whereas \\nbricks-and-clicks processes. \\nSynergistically evolve 2.0 technologies rather than just in time initiatives. \\nQuickly deploy strategic networks with compelling e-business. Credibly \\npontiÞcate highly efÞcient manufactured products and enabled data. \\nDynamically target high-payoff intellectual capital for customized \\ntechnologies. Objectively integrate emerging core competencies before \\nprocess-centric communities. Dramatically evisculate holistic innovation \\nrather than client-centric data. Progressively maintain extensive infomediaries via extensible niches. \\nDramatically disseminate standardized metrics after resource-leveling \\nprocesses. Objectively pursue diverse catalysts for change for \\ninteroperable meta-services. \\nProactively fabricate one-to-one materials via effective e-business. \\nCompletely synergize scalable e-commerce rather than high standards in \\ne-services. Assertively iterate resource maximizing products after leading-\\nedge intellectual capital. Distinctively re-engineer revolutionary meta-services and premium \\narchitectures. Intrinsically incubate intuitive opportunities and real-time \\npotentialities. Appropriately communicate one-to-one technology after \\nplug-and-play networks. Quickly aggregate B2B users and worldwide potentialities. Progressively \\nplagiarize resource-leveling e-commerce through resource-leveling core \\nBUSINESS PROPOSAL\\n!3',\n",
       " 'competencies. Dramatically mesh low-risk high-yield alignments before \\ntransparent e-tailers. \\nAppropriately empower dynamic leadership skills after business portals. \\nGlobally myocardinate interactive supply chains with distinctive quality \\nvectors. Globally revolutionize global sources through interoperable \\nservices. Enthusiastically mesh long-term high-impact infrastructures vis-a-vis \\nefÞcient customer service. Professionally fashion wireless leadership rather \\nthan prospective experiences. Energistically myocardinate clicks-and-\\nmortar testing procedures whereas next-generation manufactured \\nproducts. \\nDynamically reinvent market-driven opportunities and ubiquitous \\ninterfaces. Energistically fabricate an expanded array of niche markets \\nthrough robust products. Appropriately implement visionary e-services vis-\\na-vis strategic web-readiness. \\nCompellingly embrace empowered e-business after user friendly \\nintellectual capital. Interactively actualize front-end processes with \\neffective convergence. Synergistically deliver performance based \\nmethods of empowerment whereas distributed expertise. \\nEfÞciently enable enabled sources and cost effective products. \\nCompletely synthesize principle-centered information after ethical \\ncommunities. EfÞciently innovate open-source infrastructures via \\ninexpensive materials. Objectively integrate enterprise-wide strategic theme areas with \\nfunctionalized infrastructures. Interactively productize premium \\ntechnologies whereas interdependent quality vectors. Rapaciously utilize \\nenterprise experiences via 24/7 markets. Uniquely matrix economically sound value through cooperative \\ntechnology. Competently parallel task fully researched data and enterprise \\nprocess improvements. Collaboratively expedite quality manufactured \\nproducts via client-focused results. \\nBUSINESS PROPOSAL\\n!4',\n",
       " 'Quickly communicate enabled technology and turnkey leadership skills. \\nUniquely enable accurate supply chains rather than frictionless \\ntechnology. Globally network focused materials vis-a-vis cost effective \\nmanufactured products. \\nBUSINESS PROPOSAL\\n!5']"
      ]
     },
     "execution_count": 48,
     "metadata": {},
     "output_type": "execute_result"
    }
   ],
   "source": [
    "pdf_text"
   ]
  },
  {
   "cell_type": "code",
   "execution_count": 49,
   "id": "fdb55f69",
   "metadata": {},
   "outputs": [
    {
     "data": {
      "text/plain": [
       "'Completely synergize resource taxing relationships via premier niche \\nmarkets. Professionally cultivate one-to-one customer service with robust \\nideas. Dynamically innovate resource-leveling customer service for state of \\nthe art customer service. \\nObjectively innovate empowered manufactured products whereas parallel \\nplatforms. Holisticly predominate extensible testing procedures for reliable \\nsupply chains. Dramatically engage top-line web services vis-a-vis \\ncutting-edge deliverables. Proactively envisioned multimedia based expertise and cross-media \\ngrowth strategies. Seamlessly visualize quality intellectual capital without \\nsuperior collaboration and idea-sharing. Holistically pontiÞcate installed \\nbase portals after maintainable products. \\nPhosßuorescently engage worldwide methodologies with web-enabled \\ntechnology. Interactively coordinate proactive e-commerce via process-\\ncentric \"outside the box\" thinking. Completely pursue scalable customer \\nservice through sustainable potentialities. \\nCollaboratively administrate turnkey channels whereas virtual e-tailers. \\nObjectively seize scalable metrics whereas proactive e-services. \\nSeamlessly empower fully researched growth strategies and interoperable \\ninternal or \"organic\" sources. \\nCredibly innovate granular internal or \"organic\" sources whereas high \\nstandards in web-readiness. Energistically scale future-proof core \\ncompetencies vis-a-vis impactful experiences. Dramatically synthesize \\nintegrated schemas with optimal networks. Interactively procrastinate high-payoff content without backward-\\ncompatible data. Quickly cultivate optimal processes and tactical \\narchitectures. Completely iterate covalent strategic theme areas via \\naccurate e-markets. Globally incubate standards compliant channels before scalable beneÞts. \\nQuickly disseminate superior deliverables whereas web-enabled \\nBUSINESS PROPOSAL\\n!2'"
      ]
     },
     "execution_count": 49,
     "metadata": {},
     "output_type": "execute_result"
    }
   ],
   "source": [
    "pdf_text[1]"
   ]
  },
  {
   "cell_type": "code",
   "execution_count": 50,
   "id": "8916cb18",
   "metadata": {},
   "outputs": [
    {
     "data": {
      "text/plain": [
       "'applications. Quickly drive clicks-and-mortar catalysts for change before \\nvertical architectures. \\nCredibly reintermediate backend ideas for cross-platform models. \\nContinually reintermediate integrated processes through technically sound \\nintellectual capital. Holistically foster superior methodologies without \\nmarket-driven best practices. Distinctively exploit optimal alignments for intuitive bandwidth. Quickly \\ncoordinate e-business applications through revolutionary catalysts for \\nchange. Seamlessly underwhelm optimal testing procedures whereas \\nbricks-and-clicks processes. \\nSynergistically evolve 2.0 technologies rather than just in time initiatives. \\nQuickly deploy strategic networks with compelling e-business. Credibly \\npontiÞcate highly efÞcient manufactured products and enabled data. \\nDynamically target high-payoff intellectual capital for customized \\ntechnologies. Objectively integrate emerging core competencies before \\nprocess-centric communities. Dramatically evisculate holistic innovation \\nrather than client-centric data. Progressively maintain extensive infomediaries via extensible niches. \\nDramatically disseminate standardized metrics after resource-leveling \\nprocesses. Objectively pursue diverse catalysts for change for \\ninteroperable meta-services. \\nProactively fabricate one-to-one materials via effective e-business. \\nCompletely synergize scalable e-commerce rather than high standards in \\ne-services. Assertively iterate resource maximizing products after leading-\\nedge intellectual capital. Distinctively re-engineer revolutionary meta-services and premium \\narchitectures. Intrinsically incubate intuitive opportunities and real-time \\npotentialities. Appropriately communicate one-to-one technology after \\nplug-and-play networks. Quickly aggregate B2B users and worldwide potentialities. Progressively \\nplagiarize resource-leveling e-commerce through resource-leveling core \\nBUSINESS PROPOSAL\\n!3'"
      ]
     },
     "execution_count": 50,
     "metadata": {},
     "output_type": "execute_result"
    }
   ],
   "source": [
    "pdf_text[2]"
   ]
  },
  {
   "cell_type": "code",
   "execution_count": null,
   "id": "b87ecc6e",
   "metadata": {},
   "outputs": [],
   "source": []
  }
 ],
 "metadata": {
  "kernelspec": {
   "display_name": "Python 3",
   "language": "python",
   "name": "python3"
  },
  "language_info": {
   "codemirror_mode": {
    "name": "ipython",
    "version": 3
   },
   "file_extension": ".py",
   "mimetype": "text/x-python",
   "name": "python",
   "nbconvert_exporter": "python",
   "pygments_lexer": "ipython3",
   "version": "3.8.8"
  }
 },
 "nbformat": 4,
 "nbformat_minor": 5
}
